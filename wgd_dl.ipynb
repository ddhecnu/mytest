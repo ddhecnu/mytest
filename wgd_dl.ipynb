{
 "cells": [
  {
   "cell_type": "code",
   "execution_count": 12,
   "metadata": {},
   "outputs": [
    {
     "output_type": "stream",
     "name": "stdout",
     "text": [
      "[(3, 2), (5, 3), (2, 5)]\n[[ 0.40425649 -0.08117213]\n [-1.12290401 -0.9274153 ]\n [ 0.63931448  1.69953506]] \n\n[[ 0.7898331  -0.49823362 -2.16518849]\n [-1.10881432  0.24245484  1.07016432]\n [-0.10208149 -0.60321468 -0.44660791]\n [-1.73906706  0.41699235 -1.46755254]\n [-0.37821619  0.05436375 -0.23850714]] \n\n[[-0.36849425 -0.02648044 -0.48048505 -0.31661543  1.73264631]\n [ 0.91045986 -0.07046133  0.16684211  1.53088443  0.88331368]] \n\n"
     ]
    }
   ],
   "source": [
    "import numpy as np\n",
    "# import torch\n",
    "\n",
    "class NeuralNetwork:\n",
    "    def __init__(self, layer_sizes):\n",
    "        # layer_sizes = (2,3,5,2)\n",
    "        w_shapes = [(a,b) for a,b in zip(layer_sizes[1:], layer_sizes[:-1])]\n",
    "        self.weights = [np.random.standard_normal(s) for s in w_shapes]\n",
    "        self.biases = [np.zeros((s,1)) for s in layer_sizes[1:]]\n",
    "        # print(w_shapes)\n",
    "        # for w in weights:\n",
    "        #     print(w,'\\n')\n",
    "    \n",
    "    def predict(sef, a):\n",
    "        for w,b in zip(self.weights, self.biases):\n",
    "            a = self.activation(np.matmul(w,a) + b)\n",
    "        return a \n",
    "\n",
    "    @staticmethod\n",
    "    def activation(x):\n",
    "        return 1/(1+np.exp(-x))\n",
    "\n",
    "\n",
    "\n",
    "\n",
    "\n",
    "# a = np.array([1,2,3,4])\n",
    "# print(a)"
   ]
  },
  {
   "cell_type": "code",
   "execution_count": 9,
   "metadata": {},
   "outputs": [
    {
     "name": "stdout",
     "output_type": "stream",
     "text": [
      "249757.42440279515\n",
      "vectorized version: 10.072469711303711ms\n",
      "249757.42440279812\n",
      "for loop: 1280.0393104553223ms\n"
     ]
    }
   ],
   "source": [
    "import time\n",
    "\n",
    "a = np.random.rand(1000000)\n",
    "b = np.random.rand(1000000)\n",
    "\n",
    "tic = time.time()\n",
    "c = np.dot(a,b)\n",
    "toc = time.time()\n",
    "\n",
    "print(c)\n",
    "print(\"vectorized version: \" + str(1000*(toc-tic)) + \"ms\")\n",
    "\n",
    "c = 0\n",
    "tic = time.time()\n",
    "for i in range(1000000):\n",
    "    c += a[i]*b[i]\n",
    "toc = time.time()\n",
    "\n",
    "print(c)\n",
    "print(\"for loop: \" + str(1000*(toc-tic)) + \"ms\")"
   ]
  },
  {
   "cell_type": "code",
   "execution_count": 12,
   "metadata": {},
   "outputs": [
    {
     "data": {
      "text/plain": [
       "0.999998640236792"
      ]
     },
     "execution_count": 12,
     "metadata": {},
     "output_type": "execute_result"
    }
   ],
   "source": [
    "np.max(a, 0)"
   ]
  }
 ],
 "metadata": {
  "kernelspec": {
   "display_name": "Python 3",
   "language": "python",
   "name": "python3"
  },
  "language_info": {
   "codemirror_mode": {
    "name": "ipython",
    "version": 3
   },
   "file_extension": ".py",
   "mimetype": "text/x-python",
   "name": "python",
   "nbconvert_exporter": "python",
   "pygments_lexer": "ipython3",
   "version": "3.8.5-final"
  }
 },
 "nbformat": 4,
 "nbformat_minor": 4
}